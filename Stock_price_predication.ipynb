{
 "cells": [
  {
   "cell_type": "code",
   "execution_count": 120,
   "id": "c87bb33f",
   "metadata": {},
   "outputs": [],
   "source": [
    "import pandas as pd\n",
    "import numpy as np\n",
    "import matplotlib.pyplot as plt\n",
    "import seaborn as sns\n",
    "import plotly.express as px\n",
    "import warnings\n",
    "\n",
    "warnings.filterwarnings('ignore')\n",
    "\n",
    "from sklearn.model_selection import train_test_split\n",
    "from sklearn.preprocessing import StandardScaler\n",
    "from sklearn.linear_model import LogisticRegression\n",
    "from sklearn.svm import SVC\n",
    "from xgboost import XGBClassifier\n",
    "from sklearn import metrics"
   ]
  },
  {
   "cell_type": "code",
   "execution_count": 2,
   "id": "cf934b96",
   "metadata": {},
   "outputs": [],
   "source": [
    "df = pd.read_csv(r'C:\\Users\\vss\\Desktop\\ED-02-Mar-2023.csv')"
   ]
  },
  {
   "cell_type": "code",
   "execution_count": 3,
   "id": "ed65058e",
   "metadata": {},
   "outputs": [
    {
     "data": {
      "text/html": [
       "<div>\n",
       "<style scoped>\n",
       "    .dataframe tbody tr th:only-of-type {\n",
       "        vertical-align: middle;\n",
       "    }\n",
       "\n",
       "    .dataframe tbody tr th {\n",
       "        vertical-align: top;\n",
       "    }\n",
       "\n",
       "    .dataframe thead th {\n",
       "        text-align: right;\n",
       "    }\n",
       "</style>\n",
       "<table border=\"1\" class=\"dataframe\">\n",
       "  <thead>\n",
       "    <tr style=\"text-align: right;\">\n",
       "      <th></th>\n",
       "      <th>INSTRUMENT TYPE \\n</th>\n",
       "      <th>SYMBOL \\n</th>\n",
       "      <th>EXPIRY DATE \\n</th>\n",
       "      <th>OPTION TYPE \\n</th>\n",
       "      <th>STRIKE PRICE \\n</th>\n",
       "      <th>LTP \\n</th>\n",
       "      <th>%CHNG \\n</th>\n",
       "      <th>VOLUME \\n(Contracts)</th>\n",
       "      <th>VALUE* \\n(₹ Lakhs)</th>\n",
       "      <th>OPEN INTEREST \\n(Contracts)</th>\n",
       "      <th>VALUE OF UNDERLYING \\n</th>\n",
       "    </tr>\n",
       "  </thead>\n",
       "  <tbody>\n",
       "    <tr>\n",
       "      <th>0</th>\n",
       "      <td>Index Options</td>\n",
       "      <td>BANKNIFTY</td>\n",
       "      <td>2-Mar-23</td>\n",
       "      <td>Put</td>\n",
       "      <td>40400</td>\n",
       "      <td>10.05</td>\n",
       "      <td>-77.21</td>\n",
       "      <td>23703305</td>\n",
       "      <td>136353</td>\n",
       "      <td>205834</td>\n",
       "      <td>40390</td>\n",
       "    </tr>\n",
       "    <tr>\n",
       "      <th>1</th>\n",
       "      <td>Index Options</td>\n",
       "      <td>BANKNIFTY</td>\n",
       "      <td>2-Mar-23</td>\n",
       "      <td>Put</td>\n",
       "      <td>40500</td>\n",
       "      <td>110.15</td>\n",
       "      <td>68.81</td>\n",
       "      <td>19885926</td>\n",
       "      <td>322202</td>\n",
       "      <td>91628</td>\n",
       "      <td>40390</td>\n",
       "    </tr>\n",
       "    <tr>\n",
       "      <th>2</th>\n",
       "      <td>Index Options</td>\n",
       "      <td>BANKNIFTY</td>\n",
       "      <td>2-Mar-23</td>\n",
       "      <td>Call</td>\n",
       "      <td>40500</td>\n",
       "      <td>0.05</td>\n",
       "      <td>-99.98</td>\n",
       "      <td>17691360</td>\n",
       "      <td>299780</td>\n",
       "      <td>201929</td>\n",
       "      <td>40390</td>\n",
       "    </tr>\n",
       "    <tr>\n",
       "      <th>3</th>\n",
       "      <td>Index Options</td>\n",
       "      <td>NIFTY</td>\n",
       "      <td>2-Mar-23</td>\n",
       "      <td>Put</td>\n",
       "      <td>17300</td>\n",
       "      <td>0.05</td>\n",
       "      <td>-99.33</td>\n",
       "      <td>16793378</td>\n",
       "      <td>62807</td>\n",
       "      <td>232783</td>\n",
       "      <td>17322</td>\n",
       "    </tr>\n",
       "    <tr>\n",
       "      <th>4</th>\n",
       "      <td>Index Options</td>\n",
       "      <td>BANKNIFTY</td>\n",
       "      <td>2-Mar-23</td>\n",
       "      <td>Call</td>\n",
       "      <td>40600</td>\n",
       "      <td>0.10</td>\n",
       "      <td>-99.95</td>\n",
       "      <td>16065770</td>\n",
       "      <td>233636</td>\n",
       "      <td>137333</td>\n",
       "      <td>40390</td>\n",
       "    </tr>\n",
       "  </tbody>\n",
       "</table>\n",
       "</div>"
      ],
      "text/plain": [
       "  INSTRUMENT TYPE \\n  SYMBOL \\n EXPIRY DATE \\n OPTION TYPE \\n  \\\n",
       "0      Index Options  BANKNIFTY       2-Mar-23            Put   \n",
       "1      Index Options  BANKNIFTY       2-Mar-23            Put   \n",
       "2      Index Options  BANKNIFTY       2-Mar-23           Call   \n",
       "3      Index Options      NIFTY       2-Mar-23            Put   \n",
       "4      Index Options  BANKNIFTY       2-Mar-23           Call   \n",
       "\n",
       "   STRIKE PRICE \\n  LTP \\n  %CHNG \\n  VOLUME \\n(Contracts)  \\\n",
       "0            40400   10.05    -77.21              23703305   \n",
       "1            40500  110.15     68.81              19885926   \n",
       "2            40500    0.05    -99.98              17691360   \n",
       "3            17300    0.05    -99.33              16793378   \n",
       "4            40600    0.10    -99.95              16065770   \n",
       "\n",
       "   VALUE* \\n(₹ Lakhs)  OPEN INTEREST \\n(Contracts)  VALUE OF UNDERLYING \\n  \n",
       "0              136353                       205834                   40390  \n",
       "1              322202                        91628                   40390  \n",
       "2              299780                       201929                   40390  \n",
       "3               62807                       232783                   17322  \n",
       "4              233636                       137333                   40390  "
      ]
     },
     "execution_count": 3,
     "metadata": {},
     "output_type": "execute_result"
    }
   ],
   "source": [
    "df.head()"
   ]
  },
  {
   "cell_type": "code",
   "execution_count": 4,
   "id": "c7a1ca01",
   "metadata": {},
   "outputs": [
    {
     "data": {
      "text/plain": [
       "Index(['INSTRUMENT TYPE \\n', 'SYMBOL \\n', 'EXPIRY DATE \\n', 'OPTION TYPE \\n',\n",
       "       'STRIKE PRICE \\n', 'LTP \\n', '%CHNG \\n', 'VOLUME \\n(Contracts)',\n",
       "       'VALUE* \\n(₹ Lakhs)', 'OPEN INTEREST \\n(Contracts)',\n",
       "       'VALUE OF UNDERLYING \\n'],\n",
       "      dtype='object')"
      ]
     },
     "execution_count": 4,
     "metadata": {},
     "output_type": "execute_result"
    }
   ],
   "source": [
    "df.columns"
   ]
  },
  {
   "cell_type": "code",
   "execution_count": 5,
   "id": "7eb7c6e8",
   "metadata": {},
   "outputs": [],
   "source": [
    "df.columns = df.columns.str.split('\\n').str[0]"
   ]
  },
  {
   "cell_type": "code",
   "execution_count": 6,
   "id": "33af631f",
   "metadata": {},
   "outputs": [
    {
     "data": {
      "text/plain": [
       "Index(['INSTRUMENT TYPE ', 'SYMBOL ', 'EXPIRY DATE ', 'OPTION TYPE ',\n",
       "       'STRIKE PRICE ', 'LTP ', '%CHNG ', 'VOLUME ', 'VALUE* ',\n",
       "       'OPEN INTEREST ', 'VALUE OF UNDERLYING '],\n",
       "      dtype='object')"
      ]
     },
     "execution_count": 6,
     "metadata": {},
     "output_type": "execute_result"
    }
   ],
   "source": [
    "df.columns"
   ]
  },
  {
   "cell_type": "code",
   "execution_count": 7,
   "id": "0b7a5497",
   "metadata": {},
   "outputs": [
    {
     "data": {
      "text/html": [
       "<div>\n",
       "<style scoped>\n",
       "    .dataframe tbody tr th:only-of-type {\n",
       "        vertical-align: middle;\n",
       "    }\n",
       "\n",
       "    .dataframe tbody tr th {\n",
       "        vertical-align: top;\n",
       "    }\n",
       "\n",
       "    .dataframe thead th {\n",
       "        text-align: right;\n",
       "    }\n",
       "</style>\n",
       "<table border=\"1\" class=\"dataframe\">\n",
       "  <thead>\n",
       "    <tr style=\"text-align: right;\">\n",
       "      <th></th>\n",
       "      <th>INSTRUMENT TYPE</th>\n",
       "      <th>SYMBOL</th>\n",
       "      <th>EXPIRY DATE</th>\n",
       "      <th>OPTION TYPE</th>\n",
       "      <th>STRIKE PRICE</th>\n",
       "      <th>LTP</th>\n",
       "      <th>%CHNG</th>\n",
       "      <th>VOLUME</th>\n",
       "      <th>VALUE*</th>\n",
       "      <th>OPEN INTEREST</th>\n",
       "      <th>VALUE OF UNDERLYING</th>\n",
       "    </tr>\n",
       "  </thead>\n",
       "  <tbody>\n",
       "    <tr>\n",
       "      <th>0</th>\n",
       "      <td>Index Options</td>\n",
       "      <td>BANKNIFTY</td>\n",
       "      <td>2-Mar-23</td>\n",
       "      <td>Put</td>\n",
       "      <td>40400</td>\n",
       "      <td>10.05</td>\n",
       "      <td>-77.21</td>\n",
       "      <td>23703305</td>\n",
       "      <td>136353</td>\n",
       "      <td>205834</td>\n",
       "      <td>40390</td>\n",
       "    </tr>\n",
       "    <tr>\n",
       "      <th>1</th>\n",
       "      <td>Index Options</td>\n",
       "      <td>BANKNIFTY</td>\n",
       "      <td>2-Mar-23</td>\n",
       "      <td>Put</td>\n",
       "      <td>40500</td>\n",
       "      <td>110.15</td>\n",
       "      <td>68.81</td>\n",
       "      <td>19885926</td>\n",
       "      <td>322202</td>\n",
       "      <td>91628</td>\n",
       "      <td>40390</td>\n",
       "    </tr>\n",
       "    <tr>\n",
       "      <th>2</th>\n",
       "      <td>Index Options</td>\n",
       "      <td>BANKNIFTY</td>\n",
       "      <td>2-Mar-23</td>\n",
       "      <td>Call</td>\n",
       "      <td>40500</td>\n",
       "      <td>0.05</td>\n",
       "      <td>-99.98</td>\n",
       "      <td>17691360</td>\n",
       "      <td>299780</td>\n",
       "      <td>201929</td>\n",
       "      <td>40390</td>\n",
       "    </tr>\n",
       "    <tr>\n",
       "      <th>3</th>\n",
       "      <td>Index Options</td>\n",
       "      <td>NIFTY</td>\n",
       "      <td>2-Mar-23</td>\n",
       "      <td>Put</td>\n",
       "      <td>17300</td>\n",
       "      <td>0.05</td>\n",
       "      <td>-99.33</td>\n",
       "      <td>16793378</td>\n",
       "      <td>62807</td>\n",
       "      <td>232783</td>\n",
       "      <td>17322</td>\n",
       "    </tr>\n",
       "    <tr>\n",
       "      <th>4</th>\n",
       "      <td>Index Options</td>\n",
       "      <td>BANKNIFTY</td>\n",
       "      <td>2-Mar-23</td>\n",
       "      <td>Call</td>\n",
       "      <td>40600</td>\n",
       "      <td>0.10</td>\n",
       "      <td>-99.95</td>\n",
       "      <td>16065770</td>\n",
       "      <td>233636</td>\n",
       "      <td>137333</td>\n",
       "      <td>40390</td>\n",
       "    </tr>\n",
       "  </tbody>\n",
       "</table>\n",
       "</div>"
      ],
      "text/plain": [
       "  INSTRUMENT TYPE     SYMBOL  EXPIRY DATE  OPTION TYPE   STRIKE PRICE   \\\n",
       "0    Index Options  BANKNIFTY     2-Mar-23          Put          40400   \n",
       "1    Index Options  BANKNIFTY     2-Mar-23          Put          40500   \n",
       "2    Index Options  BANKNIFTY     2-Mar-23         Call          40500   \n",
       "3    Index Options      NIFTY     2-Mar-23          Put          17300   \n",
       "4    Index Options  BANKNIFTY     2-Mar-23         Call          40600   \n",
       "\n",
       "     LTP   %CHNG    VOLUME   VALUE*   OPEN INTEREST   VALUE OF UNDERLYING   \n",
       "0   10.05  -77.21  23703305   136353          205834                 40390  \n",
       "1  110.15   68.81  19885926   322202           91628                 40390  \n",
       "2    0.05  -99.98  17691360   299780          201929                 40390  \n",
       "3    0.05  -99.33  16793378    62807          232783                 17322  \n",
       "4    0.10  -99.95  16065770   233636          137333                 40390  "
      ]
     },
     "execution_count": 7,
     "metadata": {},
     "output_type": "execute_result"
    }
   ],
   "source": [
    "df.head()"
   ]
  },
  {
   "cell_type": "code",
   "execution_count": 8,
   "id": "97e8d0f1",
   "metadata": {},
   "outputs": [
    {
     "data": {
      "text/html": [
       "<div>\n",
       "<style scoped>\n",
       "    .dataframe tbody tr th:only-of-type {\n",
       "        vertical-align: middle;\n",
       "    }\n",
       "\n",
       "    .dataframe tbody tr th {\n",
       "        vertical-align: top;\n",
       "    }\n",
       "\n",
       "    .dataframe thead th {\n",
       "        text-align: right;\n",
       "    }\n",
       "</style>\n",
       "<table border=\"1\" class=\"dataframe\">\n",
       "  <thead>\n",
       "    <tr style=\"text-align: right;\">\n",
       "      <th></th>\n",
       "      <th>STRIKE PRICE</th>\n",
       "      <th>LTP</th>\n",
       "      <th>%CHNG</th>\n",
       "      <th>VOLUME</th>\n",
       "      <th>VALUE*</th>\n",
       "      <th>OPEN INTEREST</th>\n",
       "      <th>VALUE OF UNDERLYING</th>\n",
       "    </tr>\n",
       "  </thead>\n",
       "  <tbody>\n",
       "    <tr>\n",
       "      <th>count</th>\n",
       "      <td>20.000000</td>\n",
       "      <td>20.000000</td>\n",
       "      <td>20.000000</td>\n",
       "      <td>2.000000e+01</td>\n",
       "      <td>20.000000</td>\n",
       "      <td>20.000000</td>\n",
       "      <td>20.000000</td>\n",
       "    </tr>\n",
       "    <tr>\n",
       "      <th>mean</th>\n",
       "      <td>31285.000000</td>\n",
       "      <td>37.355000</td>\n",
       "      <td>-41.293000</td>\n",
       "      <td>1.221775e+07</td>\n",
       "      <td>142017.800000</td>\n",
       "      <td>125999.250000</td>\n",
       "      <td>31162.800000</td>\n",
       "    </tr>\n",
       "    <tr>\n",
       "      <th>std</th>\n",
       "      <td>11653.857505</td>\n",
       "      <td>83.135047</td>\n",
       "      <td>104.673144</td>\n",
       "      <td>4.851614e+06</td>\n",
       "      <td>114310.396729</td>\n",
       "      <td>62119.229144</td>\n",
       "      <td>11594.546348</td>\n",
       "    </tr>\n",
       "    <tr>\n",
       "      <th>min</th>\n",
       "      <td>17250.000000</td>\n",
       "      <td>0.050000</td>\n",
       "      <td>-99.990000</td>\n",
       "      <td>6.346721e+06</td>\n",
       "      <td>9415.000000</td>\n",
       "      <td>17307.000000</td>\n",
       "      <td>17322.000000</td>\n",
       "    </tr>\n",
       "    <tr>\n",
       "      <th>25%</th>\n",
       "      <td>17400.000000</td>\n",
       "      <td>0.050000</td>\n",
       "      <td>-99.942500</td>\n",
       "      <td>8.018044e+06</td>\n",
       "      <td>38868.750000</td>\n",
       "      <td>81094.750000</td>\n",
       "      <td>17322.000000</td>\n",
       "    </tr>\n",
       "    <tr>\n",
       "      <th>50%</th>\n",
       "      <td>40350.000000</td>\n",
       "      <td>0.050000</td>\n",
       "      <td>-99.740000</td>\n",
       "      <td>1.220174e+07</td>\n",
       "      <td>121455.000000</td>\n",
       "      <td>128473.000000</td>\n",
       "      <td>40390.000000</td>\n",
       "    </tr>\n",
       "    <tr>\n",
       "      <th>75%</th>\n",
       "      <td>40600.000000</td>\n",
       "      <td>14.550000</td>\n",
       "      <td>-40.705000</td>\n",
       "      <td>1.505757e+07</td>\n",
       "      <td>226318.250000</td>\n",
       "      <td>171199.000000</td>\n",
       "      <td>40390.000000</td>\n",
       "    </tr>\n",
       "    <tr>\n",
       "      <th>max</th>\n",
       "      <td>41000.000000</td>\n",
       "      <td>309.600000</td>\n",
       "      <td>223.650000</td>\n",
       "      <td>2.370330e+07</td>\n",
       "      <td>337288.000000</td>\n",
       "      <td>232783.000000</td>\n",
       "      <td>40390.000000</td>\n",
       "    </tr>\n",
       "  </tbody>\n",
       "</table>\n",
       "</div>"
      ],
      "text/plain": [
       "       STRIKE PRICE         LTP       %CHNG        VOLUME         VALUE*   \\\n",
       "count      20.000000   20.000000   20.000000  2.000000e+01      20.000000   \n",
       "mean    31285.000000   37.355000  -41.293000  1.221775e+07  142017.800000   \n",
       "std     11653.857505   83.135047  104.673144  4.851614e+06  114310.396729   \n",
       "min     17250.000000    0.050000  -99.990000  6.346721e+06    9415.000000   \n",
       "25%     17400.000000    0.050000  -99.942500  8.018044e+06   38868.750000   \n",
       "50%     40350.000000    0.050000  -99.740000  1.220174e+07  121455.000000   \n",
       "75%     40600.000000   14.550000  -40.705000  1.505757e+07  226318.250000   \n",
       "max     41000.000000  309.600000  223.650000  2.370330e+07  337288.000000   \n",
       "\n",
       "       OPEN INTEREST   VALUE OF UNDERLYING   \n",
       "count       20.000000             20.000000  \n",
       "mean    125999.250000          31162.800000  \n",
       "std      62119.229144          11594.546348  \n",
       "min      17307.000000          17322.000000  \n",
       "25%      81094.750000          17322.000000  \n",
       "50%     128473.000000          40390.000000  \n",
       "75%     171199.000000          40390.000000  \n",
       "max     232783.000000          40390.000000  "
      ]
     },
     "execution_count": 8,
     "metadata": {},
     "output_type": "execute_result"
    }
   ],
   "source": [
    "df.describe()"
   ]
  },
  {
   "cell_type": "markdown",
   "id": "89996af7",
   "metadata": {},
   "source": [
    "### OBSERVATION \n",
    "\n",
    "1. Average change is about -41.29 %.\n",
    "2. Standard Deviation(How price spread throughout the day) of Last Traded Price is 83.13."
   ]
  },
  {
   "cell_type": "code",
   "execution_count": 9,
   "id": "e72ba25b",
   "metadata": {},
   "outputs": [
    {
     "data": {
      "text/html": [
       "<div>\n",
       "<style scoped>\n",
       "    .dataframe tbody tr th:only-of-type {\n",
       "        vertical-align: middle;\n",
       "    }\n",
       "\n",
       "    .dataframe tbody tr th {\n",
       "        vertical-align: top;\n",
       "    }\n",
       "\n",
       "    .dataframe thead th {\n",
       "        text-align: right;\n",
       "    }\n",
       "</style>\n",
       "<table border=\"1\" class=\"dataframe\">\n",
       "  <thead>\n",
       "    <tr style=\"text-align: right;\">\n",
       "      <th></th>\n",
       "      <th>STRIKE PRICE</th>\n",
       "      <th>LTP</th>\n",
       "      <th>%CHNG</th>\n",
       "      <th>VOLUME</th>\n",
       "      <th>VALUE*</th>\n",
       "      <th>OPEN INTEREST</th>\n",
       "      <th>VALUE OF UNDERLYING</th>\n",
       "    </tr>\n",
       "  </thead>\n",
       "  <tbody>\n",
       "    <tr>\n",
       "      <th>STRIKE PRICE</th>\n",
       "      <td>1.000000</td>\n",
       "      <td>0.244852</td>\n",
       "      <td>-0.067560</td>\n",
       "      <td>0.305222</td>\n",
       "      <td>0.414421</td>\n",
       "      <td>-0.090046</td>\n",
       "      <td>0.999885</td>\n",
       "    </tr>\n",
       "    <tr>\n",
       "      <th>LTP</th>\n",
       "      <td>0.244852</td>\n",
       "      <td>1.000000</td>\n",
       "      <td>0.735721</td>\n",
       "      <td>-0.056717</td>\n",
       "      <td>0.649413</td>\n",
       "      <td>-0.663853</td>\n",
       "      <td>0.242389</td>\n",
       "    </tr>\n",
       "    <tr>\n",
       "      <th>%CHNG</th>\n",
       "      <td>-0.067560</td>\n",
       "      <td>0.735721</td>\n",
       "      <td>1.000000</td>\n",
       "      <td>-0.028282</td>\n",
       "      <td>0.596248</td>\n",
       "      <td>-0.699127</td>\n",
       "      <td>-0.068861</td>\n",
       "    </tr>\n",
       "    <tr>\n",
       "      <th>VOLUME</th>\n",
       "      <td>0.305222</td>\n",
       "      <td>-0.056717</td>\n",
       "      <td>-0.028282</td>\n",
       "      <td>1.000000</td>\n",
       "      <td>0.474124</td>\n",
       "      <td>0.440465</td>\n",
       "      <td>0.309263</td>\n",
       "    </tr>\n",
       "    <tr>\n",
       "      <th>VALUE*</th>\n",
       "      <td>0.414421</td>\n",
       "      <td>0.649413</td>\n",
       "      <td>0.596248</td>\n",
       "      <td>0.474124</td>\n",
       "      <td>1.000000</td>\n",
       "      <td>-0.311128</td>\n",
       "      <td>0.414342</td>\n",
       "    </tr>\n",
       "    <tr>\n",
       "      <th>OPEN INTEREST</th>\n",
       "      <td>-0.090046</td>\n",
       "      <td>-0.663853</td>\n",
       "      <td>-0.699127</td>\n",
       "      <td>0.440465</td>\n",
       "      <td>-0.311128</td>\n",
       "      <td>1.000000</td>\n",
       "      <td>-0.088104</td>\n",
       "    </tr>\n",
       "    <tr>\n",
       "      <th>VALUE OF UNDERLYING</th>\n",
       "      <td>0.999885</td>\n",
       "      <td>0.242389</td>\n",
       "      <td>-0.068861</td>\n",
       "      <td>0.309263</td>\n",
       "      <td>0.414342</td>\n",
       "      <td>-0.088104</td>\n",
       "      <td>1.000000</td>\n",
       "    </tr>\n",
       "  </tbody>\n",
       "</table>\n",
       "</div>"
      ],
      "text/plain": [
       "                      STRIKE PRICE       LTP     %CHNG    VOLUME    VALUE*   \\\n",
       "STRIKE PRICE               1.000000  0.244852 -0.067560  0.305222  0.414421   \n",
       "LTP                        0.244852  1.000000  0.735721 -0.056717  0.649413   \n",
       "%CHNG                     -0.067560  0.735721  1.000000 -0.028282  0.596248   \n",
       "VOLUME                     0.305222 -0.056717 -0.028282  1.000000  0.474124   \n",
       "VALUE*                     0.414421  0.649413  0.596248  0.474124  1.000000   \n",
       "OPEN INTEREST             -0.090046 -0.663853 -0.699127  0.440465 -0.311128   \n",
       "VALUE OF UNDERLYING        0.999885  0.242389 -0.068861  0.309263  0.414342   \n",
       "\n",
       "                      OPEN INTEREST   VALUE OF UNDERLYING   \n",
       "STRIKE PRICE               -0.090046              0.999885  \n",
       "LTP                        -0.663853              0.242389  \n",
       "%CHNG                      -0.699127             -0.068861  \n",
       "VOLUME                      0.440465              0.309263  \n",
       "VALUE*                     -0.311128              0.414342  \n",
       "OPEN INTEREST               1.000000             -0.088104  \n",
       "VALUE OF UNDERLYING        -0.088104              1.000000  "
      ]
     },
     "execution_count": 9,
     "metadata": {},
     "output_type": "execute_result"
    }
   ],
   "source": [
    "correlation = df.corr()\n",
    "\n",
    "correlation"
   ]
  },
  {
   "cell_type": "code",
   "execution_count": 10,
   "id": "6f3f5e89",
   "metadata": {},
   "outputs": [
    {
     "data": {
      "text/plain": [
       "<AxesSubplot:>"
      ]
     },
     "execution_count": 10,
     "metadata": {},
     "output_type": "execute_result"
    },
    {
     "data": {
      "image/png": "[encoded data removed]",
      "text/plain": [
       "<Figure size 900x500 with 2 Axes>"
      ]
     },
     "metadata": {},
     "output_type": "display_data"
    }
   ],
   "source": [
    "plt.figure(figsize=(9,5))\n",
    "sns.heatmap(correlation,annot=True)"
   ]
  },
  {
   "cell_type": "markdown",
   "id": "78c16ffe",
   "metadata": {},
   "source": [
    "#CORREALATION\n",
    "\n",
    "1.LTP & %CHNG is highly correlated i.e. 0.74\n",
    "\n",
    "2.volume & open interest is normaly correlated i.e.0.44"
   ]
  },
  {
   "cell_type": "code",
   "execution_count": 11,
   "id": "756c00b6",
   "metadata": {},
   "outputs": [
    {
     "data": {
      "text/plain": [
       "INSTRUMENT TYPE         0\n",
       "SYMBOL                  0\n",
       "EXPIRY DATE             0\n",
       "OPTION TYPE             0\n",
       "STRIKE PRICE            0\n",
       "LTP                     0\n",
       "%CHNG                   0\n",
       "VOLUME                  0\n",
       "VALUE*                  0\n",
       "OPEN INTEREST           0\n",
       "VALUE OF UNDERLYING     0\n",
       "dtype: int64"
      ]
     },
     "execution_count": 11,
     "metadata": {},
     "output_type": "execute_result"
    }
   ],
   "source": [
    "df.isnull().sum()"
   ]
  },
  {
   "cell_type": "code",
   "execution_count": 12,
   "id": "7fdf2e70",
   "metadata": {},
   "outputs": [
    {
     "name": "stdout",
     "output_type": "stream",
     "text": [
      "<class 'pandas.core.frame.DataFrame'>\n",
      "RangeIndex: 20 entries, 0 to 19\n",
      "Data columns (total 11 columns):\n",
      " #   Column                Non-Null Count  Dtype  \n",
      "---  ------                --------------  -----  \n",
      " 0   INSTRUMENT TYPE       20 non-null     object \n",
      " 1   SYMBOL                20 non-null     object \n",
      " 2   EXPIRY DATE           20 non-null     object \n",
      " 3   OPTION TYPE           20 non-null     object \n",
      " 4   STRIKE PRICE          20 non-null     int64  \n",
      " 5   LTP                   20 non-null     float64\n",
      " 6   %CHNG                 20 non-null     float64\n",
      " 7   VOLUME                20 non-null     int64  \n",
      " 8   VALUE*                20 non-null     int64  \n",
      " 9   OPEN INTEREST         20 non-null     int64  \n",
      " 10  VALUE OF UNDERLYING   20 non-null     int64  \n",
      "dtypes: float64(2), int64(5), object(4)\n",
      "memory usage: 1.8+ KB\n"
     ]
    }
   ],
   "source": [
    "df.info()"
   ]
  },
  {
   "cell_type": "code",
   "execution_count": 13,
   "id": "d67cc003",
   "metadata": {},
   "outputs": [
    {
     "data": {
      "text/html": [
       "<div>\n",
       "<style scoped>\n",
       "    .dataframe tbody tr th:only-of-type {\n",
       "        vertical-align: middle;\n",
       "    }\n",
       "\n",
       "    .dataframe tbody tr th {\n",
       "        vertical-align: top;\n",
       "    }\n",
       "\n",
       "    .dataframe thead th {\n",
       "        text-align: right;\n",
       "    }\n",
       "</style>\n",
       "<table border=\"1\" class=\"dataframe\">\n",
       "  <thead>\n",
       "    <tr style=\"text-align: right;\">\n",
       "      <th></th>\n",
       "      <th>INSTRUMENT TYPE</th>\n",
       "      <th>SYMBOL</th>\n",
       "      <th>EXPIRY DATE</th>\n",
       "      <th>OPTION TYPE</th>\n",
       "      <th>STRIKE PRICE</th>\n",
       "      <th>LTP</th>\n",
       "      <th>%CHNG</th>\n",
       "      <th>VOLUME</th>\n",
       "      <th>VALUE*</th>\n",
       "      <th>OPEN INTEREST</th>\n",
       "      <th>VALUE OF UNDERLYING</th>\n",
       "    </tr>\n",
       "  </thead>\n",
       "  <tbody>\n",
       "    <tr>\n",
       "      <th>0</th>\n",
       "      <td>Index Options</td>\n",
       "      <td>BANKNIFTY</td>\n",
       "      <td>2-Mar-23</td>\n",
       "      <td>Put</td>\n",
       "      <td>40400</td>\n",
       "      <td>10.05</td>\n",
       "      <td>-77.21</td>\n",
       "      <td>23703305</td>\n",
       "      <td>136353</td>\n",
       "      <td>205834</td>\n",
       "      <td>40390</td>\n",
       "    </tr>\n",
       "    <tr>\n",
       "      <th>1</th>\n",
       "      <td>Index Options</td>\n",
       "      <td>BANKNIFTY</td>\n",
       "      <td>2-Mar-23</td>\n",
       "      <td>Put</td>\n",
       "      <td>40500</td>\n",
       "      <td>110.15</td>\n",
       "      <td>68.81</td>\n",
       "      <td>19885926</td>\n",
       "      <td>322202</td>\n",
       "      <td>91628</td>\n",
       "      <td>40390</td>\n",
       "    </tr>\n",
       "  </tbody>\n",
       "</table>\n",
       "</div>"
      ],
      "text/plain": [
       "  INSTRUMENT TYPE     SYMBOL  EXPIRY DATE  OPTION TYPE   STRIKE PRICE   \\\n",
       "0    Index Options  BANKNIFTY     2-Mar-23          Put          40400   \n",
       "1    Index Options  BANKNIFTY     2-Mar-23          Put          40500   \n",
       "\n",
       "     LTP   %CHNG    VOLUME   VALUE*   OPEN INTEREST   VALUE OF UNDERLYING   \n",
       "0   10.05  -77.21  23703305   136353          205834                 40390  \n",
       "1  110.15   68.81  19885926   322202           91628                 40390  "
      ]
     },
     "execution_count": 13,
     "metadata": {},
     "output_type": "execute_result"
    }
   ],
   "source": [
    "df.head(2)"
   ]
  },
  {
   "cell_type": "markdown",
   "id": "51d89de1",
   "metadata": {},
   "source": [
    "## Feature engineering"
   ]
  },
  {
   "cell_type": "code",
   "execution_count": 14,
   "id": "fbfda24f",
   "metadata": {
    "scrolled": false
   },
   "outputs": [],
   "source": [
    "# convert Object datatypes into integer\n",
    "df['OPEN INTEREST'] = df['OPEN INTEREST '].astype('int')"
   ]
  },
  {
   "cell_type": "code",
   "execution_count": 15,
   "id": "373770a4",
   "metadata": {},
   "outputs": [
    {
     "data": {
      "text/plain": [
       "array([205834,  91628, 201929, 232783, 137333, 119613, 188384,  24897,\n",
       "       158276, 160053,  65240, 186088, 111367,  54942,  93935,  17307,\n",
       "        72652, 166236,  83909, 147579], dtype=int64)"
      ]
     },
     "execution_count": 15,
     "metadata": {},
     "output_type": "execute_result"
    }
   ],
   "source": [
    "df['OPEN INTEREST '].unique()"
   ]
  },
  {
   "cell_type": "code",
   "execution_count": 16,
   "id": "94b65756",
   "metadata": {},
   "outputs": [
    {
     "name": "stdout",
     "output_type": "stream",
     "text": [
      "<class 'pandas.core.frame.DataFrame'>\n",
      "RangeIndex: 20 entries, 0 to 19\n",
      "Data columns (total 12 columns):\n",
      " #   Column                Non-Null Count  Dtype  \n",
      "---  ------                --------------  -----  \n",
      " 0   INSTRUMENT TYPE       20 non-null     object \n",
      " 1   SYMBOL                20 non-null     object \n",
      " 2   EXPIRY DATE           20 non-null     object \n",
      " 3   OPTION TYPE           20 non-null     object \n",
      " 4   STRIKE PRICE          20 non-null     int64  \n",
      " 5   LTP                   20 non-null     float64\n",
      " 6   %CHNG                 20 non-null     float64\n",
      " 7   VOLUME                20 non-null     int64  \n",
      " 8   VALUE*                20 non-null     int64  \n",
      " 9   OPEN INTEREST         20 non-null     int64  \n",
      " 10  VALUE OF UNDERLYING   20 non-null     int64  \n",
      " 11  OPEN INTEREST         20 non-null     int32  \n",
      "dtypes: float64(2), int32(1), int64(5), object(4)\n",
      "memory usage: 1.9+ KB\n"
     ]
    }
   ],
   "source": [
    "df.info()"
   ]
  },
  {
   "cell_type": "code",
   "execution_count": 18,
   "id": "fe561779",
   "metadata": {},
   "outputs": [
    {
     "data": {
      "text/plain": [
       "2-Mar-23    20\n",
       "Name: EXPIRY DATE , dtype: int64"
      ]
     },
     "execution_count": 18,
     "metadata": {},
     "output_type": "execute_result"
    }
   ],
   "source": [
    "df['EXPIRY DATE '].value_counts()"
   ]
  },
  {
   "cell_type": "code",
   "execution_count": 35,
   "id": "9b9f3340",
   "metadata": {},
   "outputs": [
    {
     "data": {
      "text/html": [
       "<div>\n",
       "<style scoped>\n",
       "    .dataframe tbody tr th:only-of-type {\n",
       "        vertical-align: middle;\n",
       "    }\n",
       "\n",
       "    .dataframe tbody tr th {\n",
       "        vertical-align: top;\n",
       "    }\n",
       "\n",
       "    .dataframe thead th {\n",
       "        text-align: right;\n",
       "    }\n",
       "</style>\n",
       "<table border=\"1\" class=\"dataframe\">\n",
       "  <thead>\n",
       "    <tr style=\"text-align: right;\">\n",
       "      <th></th>\n",
       "      <th>0</th>\n",
       "      <th>1</th>\n",
       "      <th>2</th>\n",
       "    </tr>\n",
       "  </thead>\n",
       "  <tbody>\n",
       "    <tr>\n",
       "      <th>0</th>\n",
       "      <td>2</td>\n",
       "      <td>Mar</td>\n",
       "      <td>23</td>\n",
       "    </tr>\n",
       "    <tr>\n",
       "      <th>1</th>\n",
       "      <td>2</td>\n",
       "      <td>Mar</td>\n",
       "      <td>23</td>\n",
       "    </tr>\n",
       "    <tr>\n",
       "      <th>2</th>\n",
       "      <td>2</td>\n",
       "      <td>Mar</td>\n",
       "      <td>23</td>\n",
       "    </tr>\n",
       "    <tr>\n",
       "      <th>3</th>\n",
       "      <td>2</td>\n",
       "      <td>Mar</td>\n",
       "      <td>23</td>\n",
       "    </tr>\n",
       "    <tr>\n",
       "      <th>4</th>\n",
       "      <td>2</td>\n",
       "      <td>Mar</td>\n",
       "      <td>23</td>\n",
       "    </tr>\n",
       "  </tbody>\n",
       "</table>\n",
       "</div>"
      ],
      "text/plain": [
       "   0    1   2\n",
       "0  2  Mar  23\n",
       "1  2  Mar  23\n",
       "2  2  Mar  23\n",
       "3  2  Mar  23\n",
       "4  2  Mar  23"
      ]
     },
     "execution_count": 35,
     "metadata": {},
     "output_type": "execute_result"
    }
   ],
   "source": [
    "spilt = df['EXPIRY DATE '].str.split('-',expand=True)\n",
    "\n",
    "spilt.head()"
   ]
  },
  {
   "cell_type": "code",
   "execution_count": 36,
   "id": "e7b26550",
   "metadata": {},
   "outputs": [],
   "source": [
    "df['Date'] = spilt[0]\n",
    "df['Month'] = spilt[1]\n",
    "df['Year'] = spilt[2]"
   ]
  },
  {
   "cell_type": "code",
   "execution_count": 50,
   "id": "fae30572",
   "metadata": {},
   "outputs": [],
   "source": [
    "df['Date'] = df['Date'].astype('int')"
   ]
  },
  {
   "cell_type": "code",
   "execution_count": 52,
   "id": "bd4bd9af",
   "metadata": {},
   "outputs": [],
   "source": [
    "df['Year'] = df['Year'].astype('int')"
   ]
  },
  {
   "cell_type": "code",
   "execution_count": 54,
   "id": "0d2877b0",
   "metadata": {},
   "outputs": [],
   "source": [
    "df.drop(['Month'],axis=1,inplace=True)"
   ]
  },
  {
   "cell_type": "code",
   "execution_count": 55,
   "id": "fa3b9c07",
   "metadata": {},
   "outputs": [
    {
     "data": {
      "text/html": [
       "<div>\n",
       "<style scoped>\n",
       "    .dataframe tbody tr th:only-of-type {\n",
       "        vertical-align: middle;\n",
       "    }\n",
       "\n",
       "    .dataframe tbody tr th {\n",
       "        vertical-align: top;\n",
       "    }\n",
       "\n",
       "    .dataframe thead th {\n",
       "        text-align: right;\n",
       "    }\n",
       "</style>\n",
       "<table border=\"1\" class=\"dataframe\">\n",
       "  <thead>\n",
       "    <tr style=\"text-align: right;\">\n",
       "      <th></th>\n",
       "      <th>INSTRUMENT TYPE</th>\n",
       "      <th>SYMBOL</th>\n",
       "      <th>OPTION TYPE</th>\n",
       "      <th>STRIKE PRICE</th>\n",
       "      <th>LTP</th>\n",
       "      <th>%CHNG</th>\n",
       "      <th>VOLUME</th>\n",
       "      <th>VALUE*</th>\n",
       "      <th>OPEN INTEREST</th>\n",
       "      <th>VALUE OF UNDERLYING</th>\n",
       "      <th>OPEN INTEREST</th>\n",
       "      <th>Date</th>\n",
       "      <th>Year</th>\n",
       "    </tr>\n",
       "  </thead>\n",
       "  <tbody>\n",
       "    <tr>\n",
       "      <th>0</th>\n",
       "      <td>Index Options</td>\n",
       "      <td>BANKNIFTY</td>\n",
       "      <td>Put</td>\n",
       "      <td>40400</td>\n",
       "      <td>10.05</td>\n",
       "      <td>-77.21</td>\n",
       "      <td>23703305</td>\n",
       "      <td>136353</td>\n",
       "      <td>205834</td>\n",
       "      <td>40390</td>\n",
       "      <td>205834</td>\n",
       "      <td>2</td>\n",
       "      <td>23</td>\n",
       "    </tr>\n",
       "    <tr>\n",
       "      <th>1</th>\n",
       "      <td>Index Options</td>\n",
       "      <td>BANKNIFTY</td>\n",
       "      <td>Put</td>\n",
       "      <td>40500</td>\n",
       "      <td>110.15</td>\n",
       "      <td>68.81</td>\n",
       "      <td>19885926</td>\n",
       "      <td>322202</td>\n",
       "      <td>91628</td>\n",
       "      <td>40390</td>\n",
       "      <td>91628</td>\n",
       "      <td>2</td>\n",
       "      <td>23</td>\n",
       "    </tr>\n",
       "  </tbody>\n",
       "</table>\n",
       "</div>"
      ],
      "text/plain": [
       "  INSTRUMENT TYPE     SYMBOL  OPTION TYPE   STRIKE PRICE     LTP   %CHNG   \\\n",
       "0    Index Options  BANKNIFTY          Put          40400   10.05  -77.21   \n",
       "1    Index Options  BANKNIFTY          Put          40500  110.15   68.81   \n",
       "\n",
       "    VOLUME   VALUE*   OPEN INTEREST   VALUE OF UNDERLYING   OPEN INTEREST  \\\n",
       "0  23703305   136353          205834                 40390         205834   \n",
       "1  19885926   322202           91628                 40390          91628   \n",
       "\n",
       "   Date  Year  \n",
       "0     2    23  \n",
       "1     2    23  "
      ]
     },
     "execution_count": 55,
     "metadata": {},
     "output_type": "execute_result"
    }
   ],
   "source": [
    "df.head(2)"
   ]
  },
  {
   "cell_type": "code",
   "execution_count": 47,
   "id": "500204d9",
   "metadata": {},
   "outputs": [],
   "source": [
    "df.drop(['EXPIRY DATE '],axis=1,inplace=True)"
   ]
  },
  {
   "cell_type": "code",
   "execution_count": 56,
   "id": "6f5bf357",
   "metadata": {},
   "outputs": [
    {
     "name": "stdout",
     "output_type": "stream",
     "text": [
      "<class 'pandas.core.frame.DataFrame'>\n",
      "RangeIndex: 20 entries, 0 to 19\n",
      "Data columns (total 13 columns):\n",
      " #   Column                Non-Null Count  Dtype  \n",
      "---  ------                --------------  -----  \n",
      " 0   INSTRUMENT TYPE       20 non-null     object \n",
      " 1   SYMBOL                20 non-null     object \n",
      " 2   OPTION TYPE           20 non-null     object \n",
      " 3   STRIKE PRICE          20 non-null     int64  \n",
      " 4   LTP                   20 non-null     float64\n",
      " 5   %CHNG                 20 non-null     float64\n",
      " 6   VOLUME                20 non-null     int64  \n",
      " 7   VALUE*                20 non-null     int64  \n",
      " 8   OPEN INTEREST         20 non-null     int64  \n",
      " 9   VALUE OF UNDERLYING   20 non-null     int64  \n",
      " 10  OPEN INTEREST         20 non-null     int32  \n",
      " 11  Date                  20 non-null     int32  \n",
      " 12  Year                  20 non-null     int32  \n",
      "dtypes: float64(2), int32(3), int64(5), object(3)\n",
      "memory usage: 1.9+ KB\n"
     ]
    }
   ],
   "source": [
    "df.info()"
   ]
  },
  {
   "cell_type": "code",
   "execution_count": 57,
   "id": "616ba2d2",
   "metadata": {},
   "outputs": [
    {
     "data": {
      "text/plain": [
       "Index(['INSTRUMENT TYPE ', 'SYMBOL ', 'OPTION TYPE ', 'STRIKE PRICE ', 'LTP ',\n",
       "       '%CHNG ', 'VOLUME ', 'VALUE* ', 'OPEN INTEREST ',\n",
       "       'VALUE OF UNDERLYING ', 'OPEN INTEREST', 'Date', 'Year'],\n",
       "      dtype='object')"
      ]
     },
     "execution_count": 57,
     "metadata": {},
     "output_type": "execute_result"
    }
   ],
   "source": [
    "df.columns"
   ]
  },
  {
   "cell_type": "code",
   "execution_count": 76,
   "id": "6e6141b5",
   "metadata": {},
   "outputs": [
    {
     "data": {
      "text/plain": [
       "OPTION TYPE   INSTRUMENT TYPE \n",
       "Call          Index Options       124608.8\n",
       "Put           Index Options       159426.8\n",
       "Name: VALUE* , dtype: float64"
      ]
     },
     "execution_count": 76,
     "metadata": {},
     "output_type": "execute_result"
    }
   ],
   "source": [
    "# Group-by function to check mean by option type \n",
    "\n",
    "df.groupby(['OPTION TYPE ','INSTRUMENT TYPE ']).mean()['VALUE* ']"
   ]
  },
  {
   "cell_type": "code",
   "execution_count": 77,
   "id": "c5d10623",
   "metadata": {},
   "outputs": [
    {
     "data": {
      "text/plain": [
       "<AxesSubplot:ylabel='VALUE* '>"
      ]
     },
     "execution_count": 77,
     "metadata": {},
     "output_type": "execute_result"
    },
    {
     "data": {
      "image/png": "[encoded data removed]",
      "text/plain": [
       "<Figure size 640x480 with 1 Axes>"
      ]
     },
     "metadata": {},
     "output_type": "display_data"
    }
   ],
   "source": [
    "df.groupby(['OPTION TYPE ','INSTRUMENT TYPE ']).mean()['VALUE* '].plot(kind='pie',autopct='%.2f')"
   ]
  },
  {
   "cell_type": "markdown",
   "id": "c859d352",
   "metadata": {},
   "source": [
    "OBSERVATION\n",
    "\n",
    "On 2nd March 43.87% is CALL index option & 56.13% is PUT index option. "
   ]
  },
  {
   "cell_type": "code",
   "execution_count": 90,
   "id": "436d2ff7",
   "metadata": {},
   "outputs": [
    {
     "data": {
      "text/plain": [
       "Index(['INSTRUMENT TYPE ', 'SYMBOL ', 'OPTION TYPE ', 'STRIKE PRICE ', 'LTP ',\n",
       "       '%CHNG ', 'VOLUME ', 'VALUE* ', 'OPEN INTEREST ',\n",
       "       'VALUE OF UNDERLYING ', 'OPEN INTEREST', 'Date', 'Year'],\n",
       "      dtype='object')"
      ]
     },
     "execution_count": 90,
     "metadata": {},
     "output_type": "execute_result"
    }
   ],
   "source": [
    "df.columns"
   ]
  },
  {
   "cell_type": "code",
   "execution_count": 101,
   "id": "4c096cd3",
   "metadata": {},
   "outputs": [
    {
     "data": {
      "text/html": [
       "<div>\n",
       "<style scoped>\n",
       "    .dataframe tbody tr th:only-of-type {\n",
       "        vertical-align: middle;\n",
       "    }\n",
       "\n",
       "    .dataframe tbody tr th {\n",
       "        vertical-align: top;\n",
       "    }\n",
       "\n",
       "    .dataframe thead th {\n",
       "        text-align: right;\n",
       "    }\n",
       "</style>\n",
       "<table border=\"1\" class=\"dataframe\">\n",
       "  <thead>\n",
       "    <tr style=\"text-align: right;\">\n",
       "      <th></th>\n",
       "      <th>INSTRUMENT TYPE</th>\n",
       "      <th>SYMBOL</th>\n",
       "      <th>OPTION TYPE</th>\n",
       "      <th>STRIKE PRICE</th>\n",
       "      <th>LTP</th>\n",
       "      <th>%CHNG</th>\n",
       "      <th>VOLUME</th>\n",
       "      <th>VALUE*</th>\n",
       "      <th>OPEN INTEREST</th>\n",
       "      <th>VALUE OF UNDERLYING</th>\n",
       "      <th>OPEN INTEREST</th>\n",
       "      <th>Date</th>\n",
       "      <th>Year</th>\n",
       "    </tr>\n",
       "  </thead>\n",
       "  <tbody>\n",
       "    <tr>\n",
       "      <th>0</th>\n",
       "      <td>Index Options</td>\n",
       "      <td>BANKNIFTY</td>\n",
       "      <td>Put</td>\n",
       "      <td>40400</td>\n",
       "      <td>10.05</td>\n",
       "      <td>-77.21</td>\n",
       "      <td>23703305</td>\n",
       "      <td>136353</td>\n",
       "      <td>205834</td>\n",
       "      <td>40390</td>\n",
       "      <td>205834</td>\n",
       "      <td>2</td>\n",
       "      <td>23</td>\n",
       "    </tr>\n",
       "    <tr>\n",
       "      <th>1</th>\n",
       "      <td>Index Options</td>\n",
       "      <td>BANKNIFTY</td>\n",
       "      <td>Put</td>\n",
       "      <td>40500</td>\n",
       "      <td>110.15</td>\n",
       "      <td>68.81</td>\n",
       "      <td>19885926</td>\n",
       "      <td>322202</td>\n",
       "      <td>91628</td>\n",
       "      <td>40390</td>\n",
       "      <td>91628</td>\n",
       "      <td>2</td>\n",
       "      <td>23</td>\n",
       "    </tr>\n",
       "  </tbody>\n",
       "</table>\n",
       "</div>"
      ],
      "text/plain": [
       "  INSTRUMENT TYPE     SYMBOL  OPTION TYPE   STRIKE PRICE     LTP   %CHNG   \\\n",
       "0    Index Options  BANKNIFTY          Put          40400   10.05  -77.21   \n",
       "1    Index Options  BANKNIFTY          Put          40500  110.15   68.81   \n",
       "\n",
       "    VOLUME   VALUE*   OPEN INTEREST   VALUE OF UNDERLYING   OPEN INTEREST  \\\n",
       "0  23703305   136353          205834                 40390         205834   \n",
       "1  19885926   322202           91628                 40390          91628   \n",
       "\n",
       "   Date  Year  \n",
       "0     2    23  \n",
       "1     2    23  "
      ]
     },
     "execution_count": 101,
     "metadata": {},
     "output_type": "execute_result"
    }
   ],
   "source": [
    "df.head(2)"
   ]
  },
  {
   "cell_type": "code",
   "execution_count": 140,
   "id": "34044563",
   "metadata": {},
   "outputs": [],
   "source": [
    "features = df[['OPTION TYPE ','VOLUME ','VALUE* ','OPEN INTEREST ','VALUE OF UNDERLYING ','OPEN INTEREST']]"
   ]
  },
  {
   "cell_type": "code",
   "execution_count": 141,
   "id": "70b8e3e0",
   "metadata": {},
   "outputs": [],
   "source": [
    "target = df['STRIKE PRICE ']"
   ]
  },
  {
   "cell_type": "code",
   "execution_count": 142,
   "id": "f760d263",
   "metadata": {},
   "outputs": [],
   "source": [
    "from sklearn.preprocessing import StandardScaler\n",
    "scaler = StandardScaler()"
   ]
  },
  {
   "cell_type": "code",
   "execution_count": 139,
   "id": "3cb5bd92",
   "metadata": {},
   "outputs": [],
   "source": [
    "df['OPTION TYPE '] = df['OPTION TYPE '].map({'Put': 0,'Call': 1})"
   ]
  },
  {
   "cell_type": "code",
   "execution_count": 143,
   "id": "5af592d1",
   "metadata": {},
   "outputs": [],
   "source": [
    "features = scaler.fit_transform(features)"
   ]
  },
  {
   "cell_type": "code",
   "execution_count": 144,
   "id": "6c5cf777",
   "metadata": {},
   "outputs": [
    {
     "name": "stdout",
     "output_type": "stream",
     "text": [
      "(18, 6) (2, 6)\n"
     ]
    }
   ],
   "source": [
    "X_train, X_valid, Y_train, Y_valid = train_test_split(\n",
    "    features, target, test_size=0.1, random_state=2022)\n",
    "print(X_train.shape, X_valid.shape)"
   ]
  },
  {
   "cell_type": "code",
   "execution_count": 119,
   "id": "437f84ba",
   "metadata": {},
   "outputs": [
    {
     "name": "stdout",
     "output_type": "stream",
     "text": [
      "Defaulting to user installation because normal site-packages is not writeable\n",
      "Collecting xgboost\n",
      "  Downloading xgboost-1.7.4-py3-none-win_amd64.whl (89.1 MB)\n",
      "     ---------------------------------------- 89.1/89.1 MB 5.8 MB/s eta 0:00:00\n",
      "Requirement already satisfied: numpy in c:\\programdata\\anaconda3\\lib\\site-packages (from xgboost) (1.21.5)\n",
      "Requirement already satisfied: scipy in c:\\programdata\\anaconda3\\lib\\site-packages (from xgboost) (1.9.1)\n",
      "Installing collected packages: xgboost\n",
      "Successfully installed xgboost-1.7.4\n",
      "Note: you may need to restart the kernel to use updated packages.\n"
     ]
    }
   ],
   "source": [
    "pip install xgboost"
   ]
  },
  {
   "cell_type": "code",
   "execution_count": 146,
   "id": "2ec36cb0",
   "metadata": {},
   "outputs": [],
   "source": [
    "from sklearn.preprocessing import LabelEncoder\n",
    "from sklearn import preprocessing"
   ]
  },
  {
   "cell_type": "code",
   "execution_count": 147,
   "id": "8d490fd0",
   "metadata": {},
   "outputs": [],
   "source": [
    "model = LogisticRegression(solver='liblinear',random_state=0)"
   ]
  },
  {
   "cell_type": "code",
   "execution_count": 148,
   "id": "42a5657f",
   "metadata": {},
   "outputs": [
    {
     "data": {
      "text/plain": [
       "LogisticRegression(random_state=0, solver='liblinear')"
      ]
     },
     "execution_count": 148,
     "metadata": {},
     "output_type": "execute_result"
    }
   ],
   "source": [
    "model.fit(X_train, Y_train)"
   ]
  },
  {
   "cell_type": "code",
   "execution_count": 149,
   "id": "727de232",
   "metadata": {},
   "outputs": [],
   "source": [
    "from sklearn.metrics import classification_report,confusion_matrix"
   ]
  },
  {
   "cell_type": "code",
   "execution_count": 159,
   "id": "001e3c79",
   "metadata": {},
   "outputs": [
    {
     "name": "stdout",
     "output_type": "stream",
     "text": [
      "[[0.03055323 0.03833532 0.06103754 0.06333987 0.0652826  0.05273067\n",
      "  0.04643059 0.05388831 0.13492304 0.16187835 0.15781944 0.13378104]\n",
      " [0.1286381  0.07653252 0.16565965 0.16499883 0.08704308 0.04947141\n",
      "  0.05464025 0.04459552 0.03282865 0.0530308  0.07694977 0.06561143]\n",
      " [0.06245566 0.10310746 0.14530857 0.15343957 0.09325358 0.13417223\n",
      "  0.03969125 0.05198069 0.07093595 0.06229945 0.0427216  0.04063398]\n",
      " [0.06045193 0.10975653 0.14939829 0.14789846 0.09452741 0.1170307\n",
      "  0.03491388 0.0506434  0.08259648 0.07061673 0.0455672  0.03659899]\n",
      " [0.07199637 0.02168069 0.05843426 0.07584752 0.0530587  0.0346169\n",
      "  0.09756818 0.05332463 0.03878485 0.08952555 0.18253211 0.22263025]\n",
      " [0.06662939 0.24858436 0.12625367 0.11444812 0.02897654 0.0659897\n",
      "  0.03511811 0.09215346 0.1213081  0.07516616 0.01652657 0.00884581]\n",
      " [0.03656453 0.05259526 0.06494017 0.07088651 0.02823422 0.0160188\n",
      "  0.03605484 0.04972494 0.1199568  0.23623114 0.18434155 0.10445125]\n",
      " [0.08176757 0.10289732 0.04650478 0.03623342 0.04216568 0.06909445\n",
      "  0.14769943 0.17077674 0.14361229 0.05306768 0.04602338 0.06015724]\n",
      " [0.04360468 0.03360921 0.05910644 0.05358402 0.09004248 0.0625945\n",
      "  0.06968079 0.06431717 0.11898084 0.10570322 0.14768397 0.15109269]\n",
      " [0.03484991 0.15041958 0.05103664 0.03839351 0.01997822 0.02508451\n",
      "  0.04497376 0.11709925 0.24951319 0.18095294 0.06078591 0.02691258]\n",
      " [0.10674053 0.04194512 0.1326638  0.12064373 0.16877    0.12012942\n",
      "  0.06849845 0.04189262 0.02995505 0.02190038 0.0599412  0.0869197 ]\n",
      " [0.01674113 0.06497332 0.05762596 0.07024755 0.03243871 0.05071358\n",
      "  0.02688113 0.05437563 0.18813993 0.2409432  0.121008   0.07591186]\n",
      " [0.03305426 0.0459797  0.0581599  0.06604118 0.06100631 0.08042796\n",
      "  0.0619877  0.07041553 0.13369747 0.13779794 0.12313326 0.12829879]\n",
      " [0.0543921  0.02449137 0.06311786 0.07774752 0.04423153 0.0207872\n",
      "  0.0597434  0.0418358  0.0534324  0.14743021 0.21648908 0.19630153]\n",
      " [0.1206344  0.04568463 0.04210845 0.03311646 0.07179036 0.0783782\n",
      "  0.20461412 0.14451777 0.06275724 0.02050606 0.05637887 0.11951344]\n",
      " [0.09116669 0.08067444 0.12409759 0.12009094 0.12357971 0.17037196\n",
      "  0.07303588 0.06567181 0.04803229 0.02380228 0.03069934 0.04877706]\n",
      " [0.17182531 0.07327715 0.12815197 0.11341304 0.1066699  0.08743273\n",
      "  0.11120073 0.0720385  0.02473868 0.01543124 0.037089   0.05873176]\n",
      " [0.1126206  0.06220584 0.16428937 0.19580635 0.07376629 0.05225242\n",
      "  0.04914191 0.03576586 0.02375588 0.06160441 0.08682643 0.08196464]]\n",
      "[40500 17350 17400 17350 40700 17300 40500 40300 40700 40400 17450 40500\n",
      " 40500 40600 40200 17500 17250 17400]\n"
     ]
    }
   ],
   "source": [
    "p_pred = model.predict_proba(X_train)\n",
    "y_pred = model.predict(X_train)\n",
    "print(p_pred)\n",
    "print(y_pred)"
   ]
  },
  {
   "cell_type": "code",
   "execution_count": 152,
   "id": "e0d7e70a",
   "metadata": {},
   "outputs": [
    {
     "data": {
      "text/plain": [
       "0.7777777777777778"
      ]
     },
     "execution_count": 152,
     "metadata": {},
     "output_type": "execute_result"
    }
   ],
   "source": [
    "score_ = model.score(X_train,Y_train)\n",
    "\n",
    "score_"
   ]
  },
  {
   "cell_type": "code",
   "execution_count": 154,
   "id": "18a7fdb9",
   "metadata": {},
   "outputs": [
    {
     "data": {
      "text/plain": [
       "array([[1, 0, 0, 0, 0, 0, 0, 0, 0, 0, 0, 0],\n",
       "       [0, 1, 0, 0, 0, 0, 0, 0, 0, 0, 0, 0],\n",
       "       [0, 0, 1, 1, 0, 0, 0, 0, 0, 0, 0, 0],\n",
       "       [0, 0, 1, 1, 0, 0, 0, 0, 0, 0, 0, 0],\n",
       "       [0, 0, 0, 0, 1, 0, 0, 0, 0, 0, 0, 0],\n",
       "       [0, 0, 0, 0, 0, 1, 0, 0, 0, 0, 0, 0],\n",
       "       [0, 0, 0, 0, 0, 0, 1, 0, 0, 0, 0, 0],\n",
       "       [0, 0, 0, 0, 0, 0, 0, 1, 0, 0, 0, 0],\n",
       "       [0, 0, 0, 0, 0, 0, 0, 0, 1, 1, 0, 0],\n",
       "       [0, 0, 0, 0, 0, 0, 0, 0, 0, 2, 0, 0],\n",
       "       [0, 0, 0, 0, 0, 0, 0, 0, 0, 1, 1, 0],\n",
       "       [0, 0, 0, 0, 0, 0, 0, 0, 0, 0, 0, 2]], dtype=int64)"
      ]
     },
     "execution_count": 154,
     "metadata": {},
     "output_type": "execute_result"
    }
   ],
   "source": [
    "conf_m = confusion_matrix(Y_train,y_pred)\n",
    "\n",
    "conf_m"
   ]
  },
  {
   "cell_type": "code",
   "execution_count": 156,
   "id": "1acd9356",
   "metadata": {},
   "outputs": [
    {
     "data": {
      "text/plain": [
       "'              precision    recall  f1-score   support\\n\\n       17250       1.00      1.00      1.00         1\\n       17300       1.00      1.00      1.00         1\\n       17350       0.50      0.50      0.50         2\\n       17400       0.50      0.50      0.50         2\\n       17450       1.00      1.00      1.00         1\\n       17500       1.00      1.00      1.00         1\\n       40200       1.00      1.00      1.00         1\\n       40300       1.00      1.00      1.00         1\\n       40400       1.00      0.50      0.67         2\\n       40500       0.50      1.00      0.67         2\\n       40600       1.00      0.50      0.67         2\\n       40700       1.00      1.00      1.00         2\\n\\n    accuracy                           0.78        18\\n   macro avg       0.88      0.83      0.83        18\\nweighted avg       0.83      0.78      0.78        18\\n'"
      ]
     },
     "execution_count": 156,
     "metadata": {},
     "output_type": "execute_result"
    }
   ],
   "source": [
    "report = classification_report(Y_train,y_pred)\n",
    "\n",
    "report"
   ]
  },
  {
   "cell_type": "code",
   "execution_count": 167,
   "id": "ed5df52b",
   "metadata": {},
   "outputs": [
    {
     "data": {
      "image/png": "[encoded data removed]",
      "text/plain": [
       "<Figure size 640x480 with 2 Axes>"
      ]
     },
     "metadata": {},
     "output_type": "display_data"
    }
   ],
   "source": [
    "metrics.plot_confusion_matrix(model,X_train,y_pred)\n",
    "plt.xticks(rotation=90)\n",
    "plt.show()"
   ]
  }
 ],
 "metadata": {
  "kernelspec": {
   "display_name": "Python 3 (ipykernel)",
   "language": "python",
   "name": "python3"
  },
  "language_info": {
   "codemirror_mode": {
    "name": "ipython",
    "version": 3
   },
   "file_extension": ".py",
   "mimetype": "text/x-python",
   "name": "python",
   "nbconvert_exporter": "python",
   "pygments_lexer": "ipython3",
   "version": "3.9.13"
  }
 },
 "nbformat": 4,
 "nbformat_minor": 5
}
